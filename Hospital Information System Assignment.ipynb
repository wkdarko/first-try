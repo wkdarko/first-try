{
 "cells": [
  {
   "cell_type": "markdown",
   "metadata": {},
   "source": [
    "# Using SQL and Python"
   ]
  },
  {
   "cell_type": "code",
   "execution_count": 1,
   "metadata": {},
   "outputs": [],
   "source": [
    "#Importing Libraries\n",
    "import mysql.connector\n",
    "from mysql.connector import Error\n",
    "import pandas as pd"
   ]
  },
  {
   "cell_type": "code",
   "execution_count": 2,
   "metadata": {},
   "outputs": [
    {
     "name": "stdout",
     "output_type": "stream",
     "text": [
      "MySQL Database connection successful\n"
     ]
    }
   ],
   "source": [
    "#Connecting to MySQL Server\n",
    "def create_server_connection(host_name, user_name, user_password):\n",
    "    connection = None \n",
    "    try:\n",
    "        connection = mysql.connector.connect(\n",
    "            host = host_name,\n",
    "            user = user_name,\n",
    "            passwd = user_password\n",
    "        ) #connection parameters\n",
    "        print('MySQL Database connection successful')\n",
    "    except Error as err:\n",
    "        print(f\"Error: '{err}'\") #error message syntax for when connection unsuccessful\n",
    "    return connection\n",
    "pw = 'Devloper29@#' #SQL root password\n",
    "db = 'python_db' #database name\n",
    "\n",
    "connection = create_server_connection('localhost', 'root', pw) #connection syntax\n"
   ]
  },
  {
   "cell_type": "code",
   "execution_count": 3,
   "metadata": {},
   "outputs": [
    {
     "name": "stdout",
     "output_type": "stream",
     "text": [
      "Database created successfully\n"
     ]
    }
   ],
   "source": [
    "#Creating Database\n",
    "def create_database(connection, query):\n",
    "    cursor = connection.cursor()\n",
    "    try:\n",
    "        cursor.execute(query)\n",
    "        print('Database created successfully')\n",
    "    except Error as err:\n",
    "        print(f\"Error: '{err}'\")\n",
    "\n",
    "create_database_query = 'CREATE DATABASE python_db'\n",
    "create_database(connection, create_database_query)"
   ]
  },
  {
   "cell_type": "code",
   "execution_count": 4,
   "metadata": {},
   "outputs": [],
   "source": [
    "def create_db_connection(host_name, user_name, user_password, db_name):\n",
    "    connection = None\n",
    "    try:\n",
    "        connection = mysql.connector.connect(\n",
    "            host = host_name,\n",
    "            user = user_name,\n",
    "            passwd = user_password,\n",
    "            database = db_name\n",
    "        )\n",
    "        print('MySQL Database connection successful')\n",
    "    except Error as err:\n",
    "        print(f\"Error: '{err}'\")\n",
    "        \n",
    "    return connection"
   ]
  },
  {
   "cell_type": "code",
   "execution_count": 5,
   "metadata": {},
   "outputs": [],
   "source": [
    "#Define Query Execution Function\n",
    "#This will help us to execute queries written in SQL\n",
    "#We use cursor.execute()\n",
    "\n",
    "def execute_query(connection, query):\n",
    "    cursor = connection.cursor()\n",
    "    try:\n",
    "        cursor.execute(query)\n",
    "        connection.commit()\n",
    "        print('Query successful')\n",
    "    except Error as err:\n",
    "        print(f\"Error: '{err}'\")"
   ]
  },
  {
   "cell_type": "markdown",
   "metadata": {},
   "source": [
    "# Creating Hospital Table"
   ]
  },
  {
   "cell_type": "code",
   "execution_count": 6,
   "metadata": {},
   "outputs": [
    {
     "name": "stdout",
     "output_type": "stream",
     "text": [
      "MySQL Database connection successful\n",
      "Query successful\n",
      "Query successful\n"
     ]
    }
   ],
   "source": [
    "create_hospital_table = '''\n",
    "CREATE TABLE Hospital(\n",
    "Hospital_Id INT UNSIGNED NOT NULL,\n",
    "Hospital_Name TEXT NOT NULL,\n",
    "Bed_Count INT,\n",
    "PRIMARY KEY (Hospital_Id)\n",
    ");\n",
    "'''\n",
    "create_doctor_table = '''\n",
    "CREATE TABLE Doctor(\n",
    "Doctor_Id INT UNSIGNED NOT NULL,\n",
    "Doctor_Name TEXT NOT NULL,\n",
    "Hospital_Id INT NOT NULL,\n",
    "Joining_Date DATE NOT NULL,\n",
    "Speciality TEXT NULL,\n",
    "Salary INT NULL,\n",
    "Experience INT NULL,\n",
    "PRIMARY KEY (Doctor_Id)\n",
    ");\n",
    "'''\n",
    "\n",
    "connection = create_db_connection('localhost','root', pw, db)\n",
    "execute_query(connection, create_hospital_table)\n",
    "execute_query(connection, create_doctor_table)"
   ]
  },
  {
   "cell_type": "code",
   "execution_count": 7,
   "metadata": {},
   "outputs": [
    {
     "name": "stdout",
     "output_type": "stream",
     "text": [
      "MySQL Database connection successful\n",
      "Query successful\n",
      "Query successful\n"
     ]
    }
   ],
   "source": [
    "#Adding data to Tables\n",
    "pop_hospital_table = '''\n",
    "INSERT INTO Hospital (Hospital_Id, Hospital_Name, Bed_Count)\n",
    "VALUES\n",
    "('1', 'Mayo Clinic', 200),\n",
    "('2', 'Cleveland Clinic', 400),\n",
    "('3', 'John Hopkins', 1000),\n",
    "('4', 'UCLA Medical Center', 1500);\n",
    "'''\n",
    "pop_doctor_table = '''\n",
    "INSERT INTO Doctor (Doctor_Id, Doctor_Name, Hospital_Id, Joining_Date, Speciality, Salary, Experience)\n",
    "VALUES\n",
    "('101', 'David', '1', '2005-02-10', 'Pediatric', '40000', NULL),\n",
    "('102', 'Michael', '1', '2018-07-23', 'Oncologist', '20000', NULL),\n",
    "('103', 'Susan', '2', '2016-05-19', 'Gynecologist', '25000', NULL),\n",
    "('104', 'Robert', '2', '2017-12-28', 'Pediatric', '28000', NULL),\n",
    "('105', 'Linda', '3', '2004-06-04', 'Gynecologist', '42000', NULL),\n",
    "('106', 'William', '3', '2012-09-11', 'Dermatologist', '30000', NULL),\n",
    "('107', 'Richard', '4', '2014-08-21', 'Gynecologist', '32000', NULL),\n",
    "('108', 'Karen', '4', '2011-10-17', 'Radiologist', '30000', NULL);\n",
    "'''\n",
    "\n",
    "connection = create_db_connection('localhost', 'root', pw, db)\n",
    "execute_query(connection, pop_hospital_table)\n",
    "execute_query(connection, pop_doctor_table)"
   ]
  },
  {
   "cell_type": "markdown",
   "metadata": {},
   "source": [
    "# EXERCISES"
   ]
  },
  {
   "cell_type": "markdown",
   "metadata": {},
   "source": [
    "#1. Fetching Database Version"
   ]
  },
  {
   "cell_type": "code",
   "execution_count": 8,
   "metadata": {},
   "outputs": [
    {
     "name": "stdout",
     "output_type": "stream",
     "text": [
      "MySQL Database connection successful\n",
      "Database version : 5.7.34-log \n"
     ]
    }
   ],
   "source": [
    "connection = create_db_connection('localhost', 'root', pw, db)\n",
    "cursor = connection.cursor()\n",
    "cursor.execute('SELECT VERSION()')\n",
    "data = cursor.fetchone()\n",
    "print (\"Database version : %s \" %data )"
   ]
  },
  {
   "cell_type": "markdown",
   "metadata": {},
   "source": [
    "#2. Fetching Hospital and Doctor Information using Hospital Id and Doctor Id"
   ]
  },
  {
   "cell_type": "code",
   "execution_count": 9,
   "metadata": {
    "scrolled": true
   },
   "outputs": [
    {
     "name": "stdout",
     "output_type": "stream",
     "text": [
      "MySQL Database connection successful\n",
      "\n",
      "Printing Hospital record \n",
      "\n",
      "Hospital_Id:  2\n",
      "Hospital_Name:  Cleveland Clinic\n",
      "Bed_Count:  400\n",
      "\n",
      "Printing Doctor record \n",
      "\n",
      "Doctor_Id:  105\n",
      "Doctor_Name:  Linda\n",
      "Hospital_Id:  3\n",
      "Joining_Date:  2004-06-04\n",
      "Speciality:  Gynecologist\n",
      "Salary:  42000\n",
      "Experience:  None\n"
     ]
    }
   ],
   "source": [
    "def get_hospital_detail(hospital_id):\n",
    "    try:\n",
    "        connection = create_db_connection('localhost', 'root', pw, db)\n",
    "        cursor = connection.cursor()\n",
    "        sql_select_query = '''\n",
    "        SELECT * FROM Hospital WHERE Hospital_Id = %s\n",
    "        '''\n",
    "        cursor.execute(sql_select_query, (hospital_id,))\n",
    "        records = cursor.fetchall()\n",
    "        print('\\nPrinting Hospital record', '\\n')\n",
    "        \n",
    "        for row in records:\n",
    "            print('Hospital_Id: ', row[0], )\n",
    "            print('Hospital_Name: ', row[1])\n",
    "            print('Bed_Count: ', row[2])\n",
    "    \n",
    "    except Error as err:\n",
    "        print(f\"Error: '{err}'\")\n",
    "\n",
    "get_hospital_detail(2)\n",
    "\n",
    "def get_doctor_detail(doctor_id):\n",
    "    try:\n",
    "        cursor = connection.cursor()\n",
    "        sql_select_query = '''\n",
    "        SELECT * FROM Doctor WHERE Doctor_Id = %s\n",
    "        '''\n",
    "        cursor.execute(sql_select_query, (doctor_id,))\n",
    "        records = cursor.fetchall()\n",
    "        print('\\nPrinting Doctor record', '\\n')\n",
    "        \n",
    "        for row in records:\n",
    "            print('Doctor_Id: ', row[0], )\n",
    "            print('Doctor_Name: ', row[1])\n",
    "            print('Hospital_Id: ', row[2])\n",
    "            print('Joining_Date: ', row[3])\n",
    "            print('Speciality: ', row[4])\n",
    "            print('Salary: ', row[5])\n",
    "            print('Experience: ', row[6])\n",
    "    \n",
    "    except Error as err:\n",
    "        print(f\"Error: '{err}'\")\n",
    "        \n",
    "get_doctor_detail(105)"
   ]
  },
  {
   "cell_type": "markdown",
   "metadata": {},
   "source": [
    "#3. Get List of doctors as per given speciality and salary"
   ]
  },
  {
   "cell_type": "code",
   "execution_count": 10,
   "metadata": {},
   "outputs": [
    {
     "name": "stdout",
     "output_type": "stream",
     "text": [
      "MySQL Database connection successful\n",
      "\n",
      "Printing Doctors whose speciality is Gynecologist and salary greater than 30000 \n",
      "\n",
      "Doctor_Id:  105\n",
      "Doctor_Name:  Linda\n",
      "Hospital_Id:  3\n",
      "Joining_Date:  2004-06-04\n",
      "Speciality:  Gynecologist\n",
      "Salary:  42000\n",
      "Experience:  None \n",
      "\n",
      "Doctor_Id:  107\n",
      "Doctor_Name:  Richard\n",
      "Hospital_Id:  4\n",
      "Joining_Date:  2014-08-21\n",
      "Speciality:  Gynecologist\n",
      "Salary:  32000\n",
      "Experience:  None \n",
      "\n"
     ]
    }
   ],
   "source": [
    "def get_specialist_doctors_list(speciality, salary):\n",
    "    try:\n",
    "        connection = create_db_connection('localhost', 'root', pw, db)\n",
    "        cursor = connection.cursor()\n",
    "        sql_select_query = '''\n",
    "        SELECT * FROM Doctor WHERE Speciality = %s AND Salary > %s\n",
    "        '''\n",
    "        cursor.execute(sql_select_query, (speciality, salary))\n",
    "        records = cursor.fetchall()\n",
    "        print('\\nPrinting Doctors whose speciality is Gynecologist and salary greater than 30000', '\\n')\n",
    "        \n",
    "        for row in records:\n",
    "            print('Doctor_Id: ', row[0], )\n",
    "            print('Doctor_Name: ', row[1])\n",
    "            print('Hospital_Id: ', row[2])\n",
    "            print('Joining_Date: ', row[3])\n",
    "            print('Speciality: ', row[4])\n",
    "            print('Salary: ', row[5])\n",
    "            print('Experience: ', row[6], '\\n')\n",
    "    \n",
    "    except Error as err:\n",
    "        print(f\"Error: '{err}'\")\n",
    "        \n",
    "get_specialist_doctors_list('Gynecologist', 30000)"
   ]
  },
  {
   "cell_type": "markdown",
   "metadata": {},
   "source": [
    "#4. Get List of doctors from a given hospital"
   ]
  },
  {
   "cell_type": "code",
   "execution_count": 69,
   "metadata": {},
   "outputs": [
    {
     "name": "stdout",
     "output_type": "stream",
     "text": [
      "MySQL Database connection successful\n",
      "\n",
      "Printing Doctors whose hospital_Id is 2 \n",
      "\n",
      "Doctor_Id:  103\n",
      "Doctor_Name:  Susan\n",
      "Hospital_Id:  2\n",
      "Joining_Date:  2016-05-19\n",
      "Speciality:  Gynecologist\n",
      "Salary:  25000\n",
      "Experience:  None \n",
      "\n",
      "Doctor_Id:  104\n",
      "Doctor_Name:  Robert\n",
      "Hospital_Id:  2\n",
      "Joining_Date:  2017-12-28\n",
      "Speciality:  Pediatric\n",
      "Salary:  28000\n",
      "Experience:  None \n",
      "\n"
     ]
    }
   ],
   "source": [
    "#DON'T TOUCH THIS!!! THERE'S SOMETHING DEFINITELY WRONG IM YET TO FIGURE OUT WHAT???\n",
    "\n",
    "def get_doctors(hospital_id):\n",
    "    connection = create_db_connection('localhost', 'root', pw, db)\n",
    "    cursor = connection.cursor()\n",
    "    sql_select_query = '''SELECT Hospital_Name FROM Hospital WHERE Hospital_Id = %s'''\n",
    "    cursor.execute(sql_select_query, (hospital_id,))\n",
    "    results = cursor.fetchone()\n",
    "get_doctors(2)\n",
    "\n",
    "def get_doctors(hospital_id):\n",
    "    try:\n",
    "        cursor = connection.cursor()\n",
    "        sql_select_query = '''SELECT * FROM Doctor WHERE Hospital_Id = %s; \n",
    "        '''\n",
    "        cursor.execute(sql_select_query, (hospital_id,))\n",
    "        results = cursor.fetchall()\n",
    "        print('\\nPrinting Doctors whose hospital_Id is 2', '\\n')\n",
    "        \n",
    "        for row in results:\n",
    "            print('Doctor_Id: ', row[0], )\n",
    "            print('Doctor_Name: ', row[1])\n",
    "            print('Hospital_Id: ', row[2])\n",
    "            print('Joining_Date: ', row[3])\n",
    "            print('Speciality: ', row[4])\n",
    "            print('Salary: ', row[5])\n",
    "            print('Experience: ', row[6], '\\n')\n",
    "    \n",
    "    except Error as err:\n",
    "        print(f\"Error: '{err}'\")\n",
    "        \n",
    "get_doctors(2)\n",
    "\n",
    "#DON'T TOUCH THIS!!! THERE'S SOMETHING DEFINITELY WRONG IM YET TO FIGURE OUT WHAT???"
   ]
  },
  {
   "cell_type": "markdown",
   "metadata": {},
   "source": [
    "#5. Updating Doctor Experience in Years"
   ]
  },
  {
   "cell_type": "code",
   "execution_count": 22,
   "metadata": {},
   "outputs": [
    {
     "name": "stdout",
     "output_type": "stream",
     "text": [
      "MySQL Database connection successful\n",
      "\n",
      "Printing Doctor record \n",
      "\n",
      "Doctor_Id:  101\n",
      "Doctor_Name:  David\n",
      "Hospital_Id:  1\n",
      "Joining_Date:  2005-02-10\n",
      "Speciality:  Pediatric\n",
      "Salary:  40000\n",
      "Experience:  None \n",
      "\n",
      "\n",
      "Printing Doctor record \n",
      "\n",
      "Doctor_Id:  101\n",
      "Doctor_Name:  David\n",
      "Hospital_Id:  1\n",
      "Joining_Date:  2005-02-10\n",
      "Speciality:  Pediatric\n",
      "Salary:  40000\n",
      "Experience:  16\n"
     ]
    }
   ],
   "source": [
    "def update_doctor_experience(doctor_id):\n",
    "    try:\n",
    "        connection = create_db_connection('localhost', 'root', pw, db)\n",
    "        cursor = connection.cursor()\n",
    "        query = '''SELECT * FROM Doctor WHERE Doctor_Id = %s'''\n",
    "        cursor.execute(query, (doctor_id,))\n",
    "        records = cursor.fetchall()\n",
    "        print('\\nPrinting Doctor record', '\\n')\n",
    "        \n",
    "        for row in records:\n",
    "            print('Doctor_Id: ', row[0], )\n",
    "            print('Doctor_Name: ', row[1])\n",
    "            print('Hospital_Id: ', row[2])\n",
    "            print('Joining_Date: ', row[3])\n",
    "            print('Speciality: ', row[4])\n",
    "            print('Salary: ', row[5])\n",
    "            print('Experience: ', row[6], '\\n')\n",
    "    \n",
    "    except Error as err:\n",
    "        print(f\"Error: '{err}'\")\n",
    "        \n",
    "update_doctor_experience(101)\n",
    "\n",
    "def update_doctor_experience(doctor_id):\n",
    "    try:\n",
    "        cursor = connection.cursor()\n",
    "        update = '''UPDATE Doctor SET Experience = (TIMESTAMPDIFF(YEAR, Joining_Date, CURDATE())) \n",
    "        WHERE Doctor_Id = %s\n",
    "        '''\n",
    "        sql_select_query = '''SELECT * FROM Doctor WHERE Doctor_Id = %s'''\n",
    "        cursor.execute(sql_select_query, (doctor_id,))\n",
    "        records = cursor.fetchall()\n",
    "        print('\\nPrinting Doctor record', '\\n')\n",
    "        \n",
    "        for row in records:\n",
    "            print('Doctor_Id: ', row[0], )\n",
    "            print('Doctor_Name: ', row[1])\n",
    "            print('Hospital_Id: ', row[2])\n",
    "            print('Joining_Date: ', row[3])\n",
    "            print('Speciality: ', row[4])\n",
    "            print('Salary: ', row[5])\n",
    "            print('Experience: ', row[6])\n",
    "    except Error as err:\n",
    "        print(f\"Error: '{err}'\")\n",
    "\n",
    "update_doctor_experience(101)"
   ]
  },
  {
   "cell_type": "code",
   "execution_count": null,
   "metadata": {},
   "outputs": [],
   "source": []
  }
 ],
 "metadata": {
  "kernelspec": {
   "display_name": "Python 3",
   "language": "python",
   "name": "python3"
  },
  "language_info": {
   "codemirror_mode": {
    "name": "ipython",
    "version": 3
   },
   "file_extension": ".py",
   "mimetype": "text/x-python",
   "name": "python",
   "nbconvert_exporter": "python",
   "pygments_lexer": "ipython3",
   "version": "3.8.5"
  }
 },
 "nbformat": 4,
 "nbformat_minor": 4
}
